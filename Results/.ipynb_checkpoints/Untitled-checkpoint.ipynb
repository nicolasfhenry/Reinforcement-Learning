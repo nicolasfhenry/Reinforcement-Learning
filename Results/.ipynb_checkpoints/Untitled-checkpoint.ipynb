{
 "cells": [
  {
   "cell_type": "code",
   "execution_count": 3,
   "metadata": {
    "collapsed": true
   },
   "outputs": [],
   "source": [
    "import matplotlib as plt\n",
    "import os\n",
    "from neuralnets_VBN import NeuralNetwork\n",
    "from useful_func import *"
   ]
  },
  {
   "cell_type": "code",
   "execution_count": 6,
   "metadata": {
    "collapsed": false
   },
   "outputs": [],
   "source": [
    "import pickle\n",
    "\n",
    "def load_obj(name):\n",
    "    WD = os.getcwd()\n",
    "    with open(WD + '/'+ name + '.pkl', 'rb') as f:\n",
    "        return pickle.load(f,encoding='latin1')"
   ]
  },
  {
   "cell_type": "code",
   "execution_count": 10,
   "metadata": {
    "collapsed": false
   },
   "outputs": [],
   "source": [
    "result = load_obj('mainGS_mirror_VBN.py')"
   ]
  },
  {
   "cell_type": "code",
   "execution_count": 11,
   "metadata": {
    "collapsed": false
   },
   "outputs": [
    {
     "data": {
      "text/plain": [
       "dict_keys(['numInput', 'num_worker', 'alpha', 'num_episodes', 'reward', 'sigma', 'alphaValue', 'numHidden2', 'numOutput', 'params', 'numHidden1'])"
      ]
     },
     "execution_count": 11,
     "metadata": {},
     "output_type": "execute_result"
    }
   ],
   "source": [
    "result.keys()"
   ]
  },
  {
   "cell_type": "code",
   "execution_count": 15,
   "metadata": {
    "collapsed": false
   },
   "outputs": [
    {
     "name": "stdout",
     "output_type": "stream",
     "text": [
      "-247.85\n",
      "-250.0\n",
      "-250.0\n",
      "-250.0\n",
      "-250.0\n",
      "-250.0\n",
      "-250.0\n",
      "-250.0\n",
      "-250.0\n",
      "-250.0\n",
      "-250.0\n",
      "-250.0\n",
      "-250.0\n",
      "-249.957142857\n",
      "-250.0\n",
      "-241.828571429\n",
      "-250.0\n",
      "-250.0\n",
      "-250.0\n",
      "-250.0\n",
      "-250.0\n",
      "-250.0\n",
      "-250.0\n",
      "-250.0\n",
      "-250.0\n",
      "-250.0\n",
      "-250.0\n",
      "-250.0\n",
      "-250.0\n",
      "-250.0\n",
      "-250.0\n",
      "-250.0\n",
      "-250.0\n",
      "-250.0\n",
      "-250.0\n",
      "-250.0\n",
      "-250.0\n",
      "-250.0\n",
      "-250.0\n",
      "-250.0\n",
      "-250.0\n",
      "-250.0\n",
      "-250.0\n",
      "-250.0\n",
      "-250.0\n",
      "-250.0\n",
      "-250.0\n",
      "-250.0\n",
      "-250.0\n",
      "-250.0\n"
     ]
    }
   ],
   "source": [
    "for i in result['reward']:\n",
    "    print(i[0])"
   ]
  }
 ],
 "metadata": {
  "anaconda-cloud": {},
  "kernelspec": {
   "display_name": "Python [conda env:tensorflow]",
   "language": "python",
   "name": "conda-env-tensorflow-py"
  },
  "language_info": {
   "codemirror_mode": {
    "name": "ipython",
    "version": 3
   },
   "file_extension": ".py",
   "mimetype": "text/x-python",
   "name": "python",
   "nbconvert_exporter": "python",
   "pygments_lexer": "ipython3",
   "version": "3.5.3"
  }
 },
 "nbformat": 4,
 "nbformat_minor": 2
}
